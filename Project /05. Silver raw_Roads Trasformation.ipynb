{
 "cells": [
  {
   "cell_type": "code",
   "execution_count": 0,
   "metadata": {
    "application/vnd.databricks.v1+cell": {
     "cellMetadata": {
      "byteLimit": 2048000,
      "rowLimit": 10000
     },
     "inputWidgets": {},
     "nuid": "02da009d-757d-45b4-a42a-8eaef0a1bf8d",
     "showTitle": false,
     "tableResultSettingsMap": {},
     "title": ""
    }
   },
   "outputs": [],
   "source": [
    "%run \"/Workspace/Project/04.Common Notebook\"\n"
   ]
  },
  {
   "cell_type": "code",
   "execution_count": 0,
   "metadata": {
    "application/vnd.databricks.v1+cell": {
     "cellMetadata": {
      "byteLimit": 2048000,
      "rowLimit": 10000
     },
     "inputWidgets": {},
     "nuid": "3cf2f4e5-af37-4eee-adff-969f8d262079",
     "showTitle": false,
     "tableResultSettingsMap": {},
     "title": ""
    }
   },
   "outputs": [],
   "source": [
    "dbutils.widgets.text(\"Enter the environment\",\"\")\n",
    "env = dbutils.widgets.get(\"Enter the environment\")"
   ]
  },
  {
   "cell_type": "code",
   "execution_count": 0,
   "metadata": {
    "application/vnd.databricks.v1+cell": {
     "cellMetadata": {
      "byteLimit": 2048000,
      "rowLimit": 10000
     },
     "inputWidgets": {},
     "nuid": "e6fb3dd6-5f64-4170-97ea-9d67262b2556",
     "showTitle": false,
     "tableResultSettingsMap": {},
     "title": ""
    }
   },
   "outputs": [],
   "source": [
    "from pyspark.sql.functions import *"
   ]
  },
  {
   "cell_type": "code",
   "execution_count": 0,
   "metadata": {
    "application/vnd.databricks.v1+cell": {
     "cellMetadata": {
      "byteLimit": 2048000,
      "rowLimit": 10000
     },
     "inputWidgets": {},
     "nuid": "a4285e0b-d263-40d2-9eb6-dcb11eb59212",
     "showTitle": false,
     "tableResultSettingsMap": {},
     "title": ""
    }
   },
   "outputs": [],
   "source": [
    "def read_raw_road_data(environment):\n",
    "    # Read the live/streaming road data from the bronze table in dev_catalog\n",
    "    road_data = spark.readStream.table(f\"{environment}_catalog.bronze.raw_roads\")\n",
    "    return road_data\n",
    "            "
   ]
  },
  {
   "cell_type": "code",
   "execution_count": 0,
   "metadata": {
    "application/vnd.databricks.v1+cell": {
     "cellMetadata": {
      "byteLimit": 2048000,
      "rowLimit": 10000
     },
     "inputWidgets": {},
     "nuid": "b3786941-ddf9-4d57-80cf-a37299895fed",
     "showTitle": false,
     "tableResultSettingsMap": {},
     "title": ""
    }
   },
   "outputs": [],
   "source": [
    "def adding_columns(df):\n",
    "    # Print status before adding the new column\n",
    "    print(\"Creating road category name column: \", end=\" \")\n",
    "    \n",
    "     # Ensure 'road_category_id' is treated as a string\n",
    "    add_df = df.withColumn(\"Road_Category\", col(\"Road_Category\").cast(\"string\"))\n",
    "\n",
    "\n",
    "    # Add a new column 'road_category_name' based on the value of 'road_category_id'\n",
    "    df = add_df.withColumn(\"road_category_name\",\n",
    "                       when(col(\"Road_Category\") == \"TA\", \"class A Trunk Road\")\n",
    "                       .when(col(\"Road_Category\") == \"TM\", \"class A Trunk Motor\")\n",
    "                       .when(col(\"Road_Category\") == \"PA\", \"class A Principal Road\")\n",
    "                       .when(col(\"Road_Category\") == \"PM\", \"class B Principal Motorway\")\n",
    "                       .when(col(\"Road_Category\") == \"M\", \"class B Road\")\n",
    "                       .otherwise(\"NA\"))  # Default value if none match\n",
    "    \n",
    "    df = df.withColumn(\"Road_type\",when(col(\"road_category_name\").like(\"class A%\"), \"Mojar\")\n",
    "                                  .when(col(\"road_category_name\").like(\"class B%\"), \"Minor\"))\n",
    "    \n",
    "     # ➤ Add the 'Transformed time' column to the DataFrame for Incremental loading\n",
    "    df = df.withColumn('TRANSFORMED_TIME', current_timestamp())\n",
    "\n",
    "    # Print success confirmation\n",
    "    print(\"Success !!\")\n",
    "    print(\"****************************************************************************************\")\n",
    "\n",
    "    # Return the modified DataFrame\n",
    "    return df"
   ]
  },
  {
   "cell_type": "code",
   "execution_count": 0,
   "metadata": {
    "application/vnd.databricks.v1+cell": {
     "cellMetadata": {
      "byteLimit": 2048000,
      "rowLimit": 10000
     },
     "inputWidgets": {},
     "nuid": "00afb6a9-928d-4a0a-86a7-1d59dd6073eb",
     "showTitle": false,
     "tableResultSettingsMap": {},
     "title": ""
    }
   },
   "outputs": [],
   "source": [
    "def road_renaming_columns(df, columns):\n",
    "    # Print message before starting to rename\n",
    "    print('Renaming columns (converting to UPPERCASE only): ', end=' ')\n",
    "    \n",
    "    # Loop through each column name\n",
    "    for col_name in columns:\n",
    "        # Change the column name to UPPERCASE\n",
    "        new_col_name = col_name.upper()\n",
    "        # Rename the column in the DataFrame\n",
    "        df = df.withColumnRenamed(col_name, new_col_name)\n",
    "    \n",
    "    # Print success message\n",
    "    print('Success !!')\n",
    "    print(\"****************************************************************************************\")\n",
    "    \n",
    "    # Show the updated DataFrame\n",
    "    display(df)\n",
    "    \n",
    "    # Return the DataFrame with renamed columns\n",
    "    return df\n"
   ]
  },
  {
   "cell_type": "code",
   "execution_count": 0,
   "metadata": {
    "application/vnd.databricks.v1+cell": {
     "cellMetadata": {
      "byteLimit": 2048000,
      "rowLimit": 10000
     },
     "inputWidgets": {},
     "nuid": "c15984f0-ae56-46e7-87d4-a8e9acab21aa",
     "showTitle": false,
     "tableResultSettingsMap": {},
     "title": ""
    }
   },
   "outputs": [],
   "source": [
    "def write_raw_road_SilverTable(df, environment):\n",
    "    print('Starting to write the Silver Road Table:', end=' ')\n",
    "\n",
    "    #  Write the streaming DataFrame to the silver Delta table\n",
    "    df.writeStream \\\n",
    "        .format(\"delta\") \\\n",
    "        .option(\"checkpointLocation\", checkpoint_path + \"/SilverawRoadLoad/Checkpt\") \\\n",
    "        .outputMode(\"append\") \\\n",
    "        .queryName(\"SilverRoadWriteStream\") \\\n",
    "        .trigger(availableNow=True) \\\n",
    "        .toTable(f\"{environment}_catalog.silver.silver_Roads\")\n",
    "\n",
    "    print('Success !!')\n",
    "    print(\"****************************************************************************************\")"
   ]
  },
  {
   "cell_type": "code",
   "execution_count": 0,
   "metadata": {
    "application/vnd.databricks.v1+cell": {
     "cellMetadata": {
      "byteLimit": 2048000,
      "rowLimit": 10000
     },
     "inputWidgets": {},
     "nuid": "ae904789-3c5b-464b-a797-4bd7b56e59f3",
     "showTitle": false,
     "tableResultSettingsMap": {},
     "title": ""
    }
   },
   "outputs": [],
   "source": [
    "# Call the function to read road data for the given environment\n",
    "Read_road_df = read_raw_road_data(env)\n",
    "\n",
    "rm_df = remove_duplicates(Read_road_df)\n",
    "rm_col = rm_df.columns\n",
    "\n",
    "null_df = handling_nulls(rm_df, rm_col)\n",
    "\n",
    "# Add new columns to the road data\n",
    "add_df = adding_columns(null_df)\n",
    "\n",
    "# Get the list of column names from the DataFrame\n",
    "df_col = add_df.columns\n",
    "\n",
    "# Rename the columns using the list of column names\n",
    "result_df = road_renaming_columns(add_df, df_col)\n",
    "\n",
    "\n",
    "write_raw_road_SilverTable(result_df, env)"
   ]
  },
  {
   "cell_type": "code",
   "execution_count": 0,
   "metadata": {
    "application/vnd.databricks.v1+cell": {
     "cellMetadata": {
      "byteLimit": 2048000,
      "implicitDf": true,
      "rowLimit": 10000
     },
     "inputWidgets": {},
     "nuid": "e13d785a-2d7a-4586-a1c2-d4e6dbd13196",
     "showTitle": false,
     "tableResultSettingsMap": {},
     "title": ""
    }
   },
   "outputs": [],
   "source": [
    "%sql\n",
    "SELECT COUNT(*) FROM `dev_catalog`.`silver`.`silver_roads`"
   ]
  }
 ],
 "metadata": {
  "application/vnd.databricks.v1+notebook": {
   "computePreferences": null,
   "dashboards": [],
   "environmentMetadata": {
    "base_environment": "",
    "environment_version": "2"
   },
   "inputWidgetPreferences": null,
   "language": "python",
   "notebookMetadata": {
    "mostRecentlyExecutedCommandWithImplicitDF": {
     "commandId": 5999049026926813,
     "dataframes": [
      "_sqldf"
     ]
    },
    "pythonIndentUnit": 4
   },
   "notebookName": "05. Silver raw_Roads Trasformation",
   "widgets": {
    "Enter the environment": {
     "currentValue": "dev",
     "nuid": "e77019aa-2742-45b4-85d0-0dbf1139fc06",
     "typedWidgetInfo": {
      "autoCreated": false,
      "defaultValue": "",
      "label": null,
      "name": "Enter the environment",
      "options": {
       "widgetDisplayType": "Text",
       "validationRegex": null
      },
      "parameterDataType": "String"
     },
     "widgetInfo": {
      "widgetType": "text",
      "defaultValue": "",
      "label": null,
      "name": "Enter the environment",
      "options": {
       "widgetType": "text",
       "autoCreated": null,
       "validationRegex": null
      }
     }
    }
   }
  },
  "language_info": {
   "name": "python"
  }
 },
 "nbformat": 4,
 "nbformat_minor": 0
}
