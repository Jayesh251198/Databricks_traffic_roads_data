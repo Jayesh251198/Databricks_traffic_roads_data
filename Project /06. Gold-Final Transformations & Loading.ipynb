{
 "cells": [
  {
   "cell_type": "code",
   "execution_count": 0,
   "metadata": {
    "application/vnd.databricks.v1+cell": {
     "cellMetadata": {
      "byteLimit": 2048000,
      "rowLimit": 10000
     },
     "inputWidgets": {},
     "nuid": "7d7d0edd-9e72-4eed-a0a8-5204a36cbd6d",
     "showTitle": false,
     "tableResultSettingsMap": {},
     "title": ""
    }
   },
   "outputs": [],
   "source": [
    "%run \"/Workspace/Project/04.Common Notebook\""
   ]
  },
  {
   "cell_type": "code",
   "execution_count": 0,
   "metadata": {
    "application/vnd.databricks.v1+cell": {
     "cellMetadata": {
      "byteLimit": 2048000,
      "rowLimit": 10000
     },
     "inputWidgets": {},
     "nuid": "fc6af2df-7b92-422b-97b6-b4c3103f4fa6",
     "showTitle": false,
     "tableResultSettingsMap": {},
     "title": ""
    }
   },
   "outputs": [],
   "source": [
    "from pyspark.sql.functions import *"
   ]
  },
  {
   "cell_type": "code",
   "execution_count": 0,
   "metadata": {
    "application/vnd.databricks.v1+cell": {
     "cellMetadata": {
      "byteLimit": 2048000,
      "rowLimit": 10000
     },
     "inputWidgets": {},
     "nuid": "e128b459-4677-42ad-ace7-b54493e8ac11",
     "showTitle": false,
     "tableResultSettingsMap": {},
     "title": ""
    }
   },
   "outputs": [],
   "source": [
    "dbutils.widgets.text(\"Enter the environment\",\"\")\n",
    "env = dbutils.widgets.get(\"Enter the environment\")"
   ]
  },
  {
   "cell_type": "code",
   "execution_count": 0,
   "metadata": {
    "application/vnd.databricks.v1+cell": {
     "cellMetadata": {
      "byteLimit": 2048000,
      "rowLimit": 10000
     },
     "inputWidgets": {},
     "nuid": "715c0cce-80da-4442-bf25-f74457361a4b",
     "showTitle": false,
     "tableResultSettingsMap": {},
     "title": ""
    }
   },
   "outputs": [],
   "source": [
    "def read_silver_traffic_data(environment):\n",
    "    # Read traffic data from silver layer\n",
    "    print(\"Reading silver traffic data:\", end=' ')\n",
    "\n",
    "    df_silver_traffic = spark.readStream.table(f\"{environment}_catalog.silver.silver_traffic\")\n",
    "    \n",
    "    print('Success !!')\n",
    "    print(\"****************************************************************************************\")\n",
    "    return df_silver_traffic\n"
   ]
  },
  {
   "cell_type": "code",
   "execution_count": 0,
   "metadata": {
    "application/vnd.databricks.v1+cell": {
     "cellMetadata": {
      "byteLimit": 2048000,
      "rowLimit": 10000
     },
     "inputWidgets": {},
     "nuid": "00fce503-95c7-4862-8255-82feae31c34e",
     "showTitle": false,
     "tableResultSettingsMap": {},
     "title": ""
    }
   },
   "outputs": [],
   "source": [
    "def read_silver_roads_data(environment):\n",
    "    # Read road data from silver layer\n",
    "    print(\"Reading silver roads data:\", end=' ')\n",
    "\n",
    "    df_silver_roads = spark.readStream.table(f\"{environment}_catalog.silver.silver_roads\")\n",
    "    \n",
    "    print('Success !!')\n",
    "    print(\"****************************************************************************************\")\n",
    "    return df_silver_roads\n"
   ]
  },
  {
   "cell_type": "code",
   "execution_count": 0,
   "metadata": {
    "application/vnd.databricks.v1+cell": {
     "cellMetadata": {
      "byteLimit": 2048000,
      "rowLimit": 10000
     },
     "inputWidgets": {},
     "nuid": "56a427e8-cc36-43e2-9d89-96a5b27a6fba",
     "showTitle": false,
     "tableResultSettingsMap": {},
     "title": ""
    }
   },
   "outputs": [],
   "source": [
    "def create_vehicle_intensity(df):\n",
    "    # Create VEHICLE_INTENSITY column by dividing vehicle count by road length\n",
    "    print(\"Creating VEHICLE_INTENSITY column:\", end=' ')\n",
    "\n",
    "    vehicle_count = round(when(\n",
    "        col(\"LINK_LENGTH_KM\") != 0,\n",
    "        col(\"MOTER_VEHICLAS_COUNT\") / col(\"LINK_LENGTH_KM\")\n",
    "    ).otherwise(None), 2)\n",
    "    \n",
    "    create_intensity_df = df.withColumn(\"VEHICLE_INTENSITY\", vehicle_count) \n",
    "    \n",
    "    print('Success !!')\n",
    "    print(\"****************************************************************************************\")\n",
    "    return create_intensity_df\n"
   ]
  },
  {
   "cell_type": "code",
   "execution_count": 0,
   "metadata": {
    "application/vnd.databricks.v1+cell": {
     "cellMetadata": {
      "byteLimit": 2048000,
      "rowLimit": 10000
     },
     "inputWidgets": {},
     "nuid": "97eb5fd4-52b8-4ce6-b0be-5e62c64f6077",
     "showTitle": false,
     "tableResultSettingsMap": {},
     "title": ""
    }
   },
   "outputs": [],
   "source": [
    "def create_loadTime(df):\n",
    "    # Add current timestamp as LOAD_TIME column\n",
    "    print(\"Adding LOAD_TIME column to DataFrame:\", end=' ')\n",
    "    \n",
    "    load_df = df.withColumn(\"LOAD_TIME\", current_timestamp())\n",
    "    \n",
    "    print('Success !!')\n",
    "    print(\"****************************************************************************************\")\n",
    "    return load_df\n"
   ]
  },
  {
   "cell_type": "code",
   "execution_count": 0,
   "metadata": {
    "application/vnd.databricks.v1+cell": {
     "cellMetadata": {
      "byteLimit": 2048000,
      "rowLimit": 10000
     },
     "inputWidgets": {},
     "nuid": "2602192a-b232-4cbf-92a8-5a8d842a1a56",
     "showTitle": false,
     "tableResultSettingsMap": {},
     "title": ""
    }
   },
   "outputs": [],
   "source": [
    "def write_gold_traffic_data(df, environment):\n",
    "    # Write data to the gold_traffic table\n",
    "    print('Starting to write the Gold Road Table:', end=' ')\n",
    "    \n",
    "    result_traffic.writeStream\\\n",
    "                 .format(\"delta\")\\\n",
    "                 .option(\"checkpointLocation\", checkpoint_path +\"/goldrawtrafficload/Checkpt\")\\\n",
    "                 .outputMode(\"append\") \\\n",
    "                 .queryName(\"goldTrafficWriteStream\") \\\n",
    "                 .trigger(availableNow=True) \\\n",
    "                 .toTable(f\"{environment}_catalog.gold.gold_traffic\")\n",
    "\n",
    "    print('Success !!')\n",
    "    print(\"****************************************************************************************\")\n"
   ]
  },
  {
   "cell_type": "code",
   "execution_count": 0,
   "metadata": {
    "application/vnd.databricks.v1+cell": {
     "cellMetadata": {
      "byteLimit": 2048000,
      "rowLimit": 10000
     },
     "inputWidgets": {},
     "nuid": "fe6b229c-ea11-413b-abc0-bf39a30c2ee1",
     "showTitle": false,
     "tableResultSettingsMap": {},
     "title": ""
    }
   },
   "outputs": [],
   "source": [
    "def write_gold_roads_data(df, environment ):\n",
    "    # Write data to the gold_roads table\n",
    "    print('Starting to write the Gold Road Table:', end=' ')\n",
    "    \n",
    "    result_road.writeStream\\\n",
    "               .format(\"delta\")\\\n",
    "               .option(\"checkpointLocation\", checkpoint_path +\"/goldrawroadload/Checkpt\")\\\n",
    "               .outputMode(\"append\")\\\n",
    "               .queryName(\"goldRoadWriteStream\")\\\n",
    "               .trigger(availableNow=True)\\\n",
    "               .toTable(f\"{environment}_catalog.gold.gold_roads\")\n",
    "    \n",
    "    print('Success !!')\n",
    "    print(\"****************************************************************************************\")\n"
   ]
  },
  {
   "cell_type": "code",
   "execution_count": 0,
   "metadata": {
    "application/vnd.databricks.v1+cell": {
     "cellMetadata": {
      "byteLimit": 2048000,
      "rowLimit": 10000
     },
     "inputWidgets": {},
     "nuid": "f841f7d5-50d6-4360-9398-690f89ab3720",
     "showTitle": false,
     "tableResultSettingsMap": {},
     "title": ""
    }
   },
   "outputs": [],
   "source": [
    "# Read traffic data from silver layer\n",
    "read_df = read_silver_traffic_data(env)\n",
    "\n",
    "# Read road data from silver layer\n",
    "roads_df = read_silver_roads_data(env)\n",
    "\n",
    "# Create vehicle intensity column in the traffic data\n",
    "intensity_df = create_vehicle_intensity(read_df)\n",
    "\n",
    "# Add load time column to the traffic data\n",
    "result_traffic = create_loadTime(intensity_df)\n",
    "\n",
    "# Add load time column to the road data\n",
    "result_road = create_loadTime(roads_df)\n",
    "\n",
    "# Write traffic data to gold layer\n",
    "write_traffic = write_gold_traffic_data(result_traffic, env)\n",
    "\n",
    "# Write road data to gold layer\n",
    "write_road = write_gold_roads_data(result_road, env)\n"
   ]
  },
  {
   "cell_type": "code",
   "execution_count": 0,
   "metadata": {
    "application/vnd.databricks.v1+cell": {
     "cellMetadata": {
      "byteLimit": 2048000,
      "rowLimit": 10000
     },
     "inputWidgets": {},
     "nuid": "1d85b559-3955-47a8-8ae8-5d65ae877a90",
     "showTitle": false,
     "tableResultSettingsMap": {},
     "title": ""
    }
   },
   "outputs": [],
   "source": [
    "display(result_traffic)"
   ]
  },
  {
   "cell_type": "code",
   "execution_count": 0,
   "metadata": {
    "application/vnd.databricks.v1+cell": {
     "cellMetadata": {
      "byteLimit": 2048000,
      "implicitDf": true,
      "rowLimit": 10000
     },
     "inputWidgets": {},
     "nuid": "6a24aaf7-41f8-48fc-b3b2-ffd2f5af58fd",
     "showTitle": false,
     "tableResultSettingsMap": {},
     "title": ""
    }
   },
   "outputs": [],
   "source": [
    "%sql\n",
    "SELECT COUNT(*) as total_row  FROM `dev_catalog`.`gold`.`gold_traffic`\n",
    "UNION ALL SELECT COUNT(*)  FROM `dev_catalog`.`gold`.`gold_roads`"
   ]
  }
 ],
 "metadata": {
  "application/vnd.databricks.v1+notebook": {
   "computePreferences": null,
   "dashboards": [],
   "environmentMetadata": {
    "base_environment": "",
    "environment_version": "2"
   },
   "inputWidgetPreferences": null,
   "language": "python",
   "notebookMetadata": {
    "mostRecentlyExecutedCommandWithImplicitDF": {
     "commandId": 7090043553740024,
     "dataframes": [
      "_sqldf"
     ]
    },
    "pythonIndentUnit": 4
   },
   "notebookName": "06. Gold-Final Transformations & Loading",
   "widgets": {
    "Enter the environment": {
     "currentValue": "dev",
     "nuid": "c748813f-96ad-411c-86ab-d56178e04d25",
     "typedWidgetInfo": {
      "autoCreated": false,
      "defaultValue": "",
      "label": null,
      "name": "Enter the environment",
      "options": {
       "widgetDisplayType": "Text",
       "validationRegex": null
      },
      "parameterDataType": "String"
     },
     "widgetInfo": {
      "widgetType": "text",
      "defaultValue": "",
      "label": null,
      "name": "Enter the environment",
      "options": {
       "widgetType": "text",
       "autoCreated": null,
       "validationRegex": null
      }
     }
    }
   }
  },
  "language_info": {
   "name": "python"
  }
 },
 "nbformat": 4,
 "nbformat_minor": 0
}
