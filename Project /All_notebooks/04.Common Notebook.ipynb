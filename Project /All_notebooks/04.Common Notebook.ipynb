{
 "cells": [
  {
   "cell_type": "markdown",
   "metadata": {
    "application/vnd.databricks.v1+cell": {
     "cellMetadata": {
      "byteLimit": 2048000,
      "rowLimit": 10000
     },
     "inputWidgets": {},
     "nuid": "0a4681a9-b78a-435d-8559-05730cb9b4aa",
     "showTitle": false,
     "tableResultSettingsMap": {},
     "title": ""
    }
   },
   "source": [
    "\n",
    "# To Re-use common functions and variables\n"
   ]
  },
  {
   "cell_type": "markdown",
   "metadata": {
    "application/vnd.databricks.v1+cell": {
     "cellMetadata": {
      "byteLimit": 2048000,
      "rowLimit": 10000
     },
     "inputWidgets": {},
     "nuid": "efce9262-56e6-43d2-a603-488ec054bf17",
     "showTitle": false,
     "tableResultSettingsMap": {},
     "title": ""
    }
   },
   "source": [
    "\n",
    "# Re-Using functions\n",
    "- We can re-use 2 functions here\n",
    "  - Removing Duplicates - \"remove_Dups(df):\"\n",
    "  - Removing NULLs - \"handle_NULLs(df,Columns):\""
   ]
  },
  {
   "cell_type": "markdown",
   "metadata": {
    "application/vnd.databricks.v1+cell": {
     "cellMetadata": {
      "byteLimit": 2048000,
      "rowLimit": 10000
     },
     "inputWidgets": {},
     "nuid": "a8486552-36ed-4c3d-a847-3bd3223de9c2",
     "showTitle": false,
     "tableResultSettingsMap": {},
     "title": ""
    }
   },
   "source": [
    "# Defining all common variables\n"
   ]
  },
  {
   "cell_type": "code",
   "execution_count": 0,
   "metadata": {
    "application/vnd.databricks.v1+cell": {
     "cellMetadata": {
      "byteLimit": 2048000,
      "rowLimit": 10000
     },
     "inputWidgets": {},
     "nuid": "7b888d5b-0b88-4c61-8006-713e0661bb1e",
     "showTitle": false,
     "tableResultSettingsMap": {},
     "title": ""
    }
   },
   "outputs": [],
   "source": [
    "# Fetch checkpoint path from Unity Catalog\n",
    "checkpoint_path = spark.sql(\"\"\"DESCRIBE EXTERNAL LOCATION checkpoint_external_location\"\"\").select(\"url\").collect()[0][0]\n",
    "\n",
    "# Fetch bronze path\n",
    "bronze_path = spark.sql(\"\"\"DESCRIBE EXTERNAL LOCATION bronze_external_location\"\"\").select(\"url\").collect()[0][0]\n",
    "\n",
    "# Fetch silver path\n",
    "silver_path = spark.sql(\"\"\"DESCRIBE EXTERNAL LOCATION silver_external_location\"\"\").select(\"url\").collect()[0][0]\n",
    "\n",
    "# Fetch gold path\n",
    "gold_path = spark.sql(\"\"\"DESCRIBE EXTERNAL LOCATION gold_external_location\"\"\").select(\"url\").collect()[0][0]\n",
    "\n",
    "# Fetch landing path — \n",
    "landing_Path = spark.sql(\"\"\"DESCRIBE EXTERNAL LOCATION `landing_external_location`\"\"\").select(\"url\").collect()[0][0]\n",
    "\n",
    "display(landing_Path)\n",
    "display(bronze_path)\n",
    "display(silver_path)\n",
    "display(gold_path)\n",
    "display(checkpoint_path)"
   ]
  },
  {
   "cell_type": "markdown",
   "metadata": {
    "application/vnd.databricks.v1+cell": {
     "cellMetadata": {
      "byteLimit": 2048000,
      "rowLimit": 10000
     },
     "inputWidgets": {},
     "nuid": "7f131b5a-1177-4fbb-a4b8-e084c76e3ec9",
     "showTitle": false,
     "tableResultSettingsMap": {},
     "title": ""
    }
   },
   "source": [
    "\n",
    "## Defining common functions\n"
   ]
  },
  {
   "cell_type": "markdown",
   "metadata": {
    "application/vnd.databricks.v1+cell": {
     "cellMetadata": {
      "byteLimit": 2048000,
      "rowLimit": 10000
     },
     "inputWidgets": {},
     "nuid": "6f6a2d9a-0888-41ae-aef7-842bd642a73c",
     "showTitle": false,
     "tableResultSettingsMap": {},
     "title": ""
    }
   },
   "source": [
    "\n",
    "### 01 -- Removing duplicates"
   ]
  },
  {
   "cell_type": "code",
   "execution_count": 0,
   "metadata": {
    "application/vnd.databricks.v1+cell": {
     "cellMetadata": {
      "byteLimit": 2048000,
      "rowLimit": 10000
     },
     "inputWidgets": {},
     "nuid": "a20cb9f6-a95f-447c-87bb-34fe343611ee",
     "showTitle": false,
     "tableResultSettingsMap": {},
     "title": ""
    }
   },
   "outputs": [],
   "source": [
    "def remove_duplicates(df):\n",
    "    #  Print starting message\n",
    "    print('Removing Duplicate values: ', end=' ')\n",
    "\n",
    "    #  Remove duplicate rows from the DataFrame\n",
    "    df_dup = df.dropDuplicates()\n",
    "\n",
    "    #  Print success message and a separator\n",
    "    print('Success !!')\n",
    "    print(\"****************************************************************************************\")\n",
    "\n",
    "    return df_dup"
   ]
  },
  {
   "cell_type": "markdown",
   "metadata": {
    "application/vnd.databricks.v1+cell": {
     "cellMetadata": {
      "byteLimit": 2048000,
      "rowLimit": 10000
     },
     "inputWidgets": {},
     "nuid": "d94e94db-6a03-4369-a29e-721a05fce5b9",
     "showTitle": false,
     "tableResultSettingsMap": {},
     "title": ""
    }
   },
   "source": [
    "\n",
    "### 01 -- Handling NULLs"
   ]
  },
  {
   "cell_type": "code",
   "execution_count": 0,
   "metadata": {
    "application/vnd.databricks.v1+cell": {
     "cellMetadata": {
      "byteLimit": 2048000,
      "rowLimit": 10000
     },
     "inputWidgets": {},
     "nuid": "47086201-8de8-4c9e-b0bc-11c1a9d1c53d",
     "showTitle": false,
     "tableResultSettingsMap": {},
     "title": ""
    }
   },
   "outputs": [],
   "source": [
    "def handling_nulls(df, columns):\n",
    "    #  Replace NULLs in string-type columns with \"Unknown\"\n",
    "    print('Replacing NULLs of Strings DataType with \"Unknown\": ', end='')\n",
    "    df_string = df.fillna('Unknown', subset=columns)\n",
    "    print('Success!')\n",
    "\n",
    "    #  Replace NULLs in numeric-type columns with 0\n",
    "    print('Replacing NULLs of Numeric DataType with \"0\":  ', end='')\n",
    "    df_numeric = df_string.fillna(0, subset=columns)\n",
    "    print('Success!')\n",
    "\n",
    "    #  Print separator line for visual clarity\n",
    "    print(\"****************************************************************************************\")\n",
    "\n",
    "    return df_numeric"
   ]
  }
 ],
 "metadata": {
  "application/vnd.databricks.v1+notebook": {
   "computePreferences": null,
   "dashboards": [],
   "environmentMetadata": null,
   "inputWidgetPreferences": null,
   "language": "python",
   "notebookMetadata": {
    "pythonIndentUnit": 4
   },
   "notebookName": "04.Common Notebook",
   "widgets": {}
  },
  "language_info": {
   "name": "python"
  }
 },
 "nbformat": 4,
 "nbformat_minor": 0
}
