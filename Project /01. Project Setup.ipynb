{
 "cells": [
  {
   "cell_type": "code",
   "execution_count": 0,
   "metadata": {
    "application/vnd.databricks.v1+cell": {
     "cellMetadata": {
      "byteLimit": 2048000,
      "rowLimit": 10000
     },
     "inputWidgets": {},
     "nuid": "106e6a20-dd66-4279-86e9-93bc3765d0c4",
     "showTitle": false,
     "tableResultSettingsMap": {},
     "title": ""
    }
   },
   "outputs": [],
   "source": [
    "%run \"/Workspace/Project/04.Common Notebook\""
   ]
  },
  {
   "cell_type": "markdown",
   "metadata": {
    "application/vnd.databricks.v1+cell": {
     "cellMetadata": {
      "byteLimit": 2048000,
      "rowLimit": 10000
     },
     "inputWidgets": {},
     "nuid": "5191305c-e028-44eb-aed2-b0f9fe989d78",
     "showTitle": false,
     "tableResultSettingsMap": {},
     "title": ""
    }
   },
   "source": [
    "\n",
    "# To create Bronze, Silver, and Gold schemas in the specified catalog using external location paths.\n",
    "\n",
    "\n"
   ]
  },
  {
   "cell_type": "markdown",
   "metadata": {
    "application/vnd.databricks.v1+cell": {
     "cellMetadata": {
      "byteLimit": 2048000,
      "rowLimit": 10000
     },
     "inputWidgets": {},
     "nuid": "8ba0a01d-15d2-4a78-b871-ad44b09fd18a",
     "showTitle": false,
     "tableResultSettingsMap": {},
     "title": ""
    }
   },
   "source": [
    "### Create widget"
   ]
  },
  {
   "cell_type": "code",
   "execution_count": 0,
   "metadata": {
    "application/vnd.databricks.v1+cell": {
     "cellMetadata": {
      "byteLimit": 2048000,
      "rowLimit": 10000
     },
     "inputWidgets": {},
     "nuid": "106e23c7-f73e-49ca-b217-707c6b74f08d",
     "showTitle": false,
     "tableResultSettingsMap": {},
     "title": ""
    }
   },
   "outputs": [],
   "source": [
    "# Create a text widget for entering the environment (e.g., dev, test, prod)\n",
    "dbutils.widgets.text(\"Enter the Environment\", \"\")\n",
    "\n",
    "# Get the value entered in the environment widget\n",
    "env = dbutils.widgets.get(\"Enter the Environment\")\n"
   ]
  },
  {
   "cell_type": "markdown",
   "metadata": {
    "application/vnd.databricks.v1+cell": {
     "cellMetadata": {
      "byteLimit": 2048000,
      "rowLimit": 10000
     },
     "inputWidgets": {},
     "nuid": "b889629b-6381-431e-8db1-5bda05ffb84f",
     "showTitle": false,
     "tableResultSettingsMap": {},
     "title": ""
    }
   },
   "source": [
    "### Fetching external locations for each layer"
   ]
  },
  {
   "cell_type": "code",
   "execution_count": 0,
   "metadata": {
    "application/vnd.databricks.v1+cell": {
     "cellMetadata": {
      "byteLimit": 2048000,
      "rowLimit": 10000
     },
     "inputWidgets": {},
     "nuid": "a993596b-80e3-442e-8e37-ff7191be661f",
     "showTitle": false,
     "tableResultSettingsMap": {},
     "title": ""
    }
   },
   "outputs": [],
   "source": [
    "bronze_path = spark.sql(\"DESCRIBE EXTERNAL LOCATION `bronze_external_location`\").select(\"url\").collect()[0][0]\n",
    "silver_path = spark.sql(\"DESCRIBE EXTERNAL LOCATION `silver_external_location`\").select(\"url\").collect()[0][0]\n",
    "gold_path = spark.sql(\"DESCRIBE EXTERNAL LOCATION `gold_external_location`\").select(\"url\").collect()[0][0]\n",
    "# Display The path to the external location\n",
    "display(bronze_path)\n",
    "display(silver_path)\n",
    "display(gold_path)\n"
   ]
  },
  {
   "cell_type": "markdown",
   "metadata": {
    "application/vnd.databricks.v1+cell": {
     "cellMetadata": {
      "byteLimit": 2048000,
      "rowLimit": 10000
     },
     "inputWidgets": {},
     "nuid": "4d27d7c4-f643-453b-a9b5-9dd43e8d9fc4",
     "showTitle": false,
     "tableResultSettingsMap": {},
     "title": ""
    }
   },
   "source": [
    "###  Function to create Bronze schema"
   ]
  },
  {
   "cell_type": "code",
   "execution_count": 0,
   "metadata": {
    "application/vnd.databricks.v1+cell": {
     "cellMetadata": {
      "byteLimit": 2048000,
      "rowLimit": 10000
     },
     "inputWidgets": {},
     "nuid": "8bcec0db-ee2c-4398-8f63-b7939af2c0af",
     "showTitle": false,
     "tableResultSettingsMap": {},
     "title": ""
    }
   },
   "outputs": [],
   "source": [
    "\n",
    "def create_bronze_schema(environment, path):\n",
    "    print(f\"Creating bronze schema in {environment}_catalog\")\n",
    "    spark.sql(f\"\"\"USE CATALOG {environment}_catalog\"\"\")\n",
    "    spark.sql(f\"\"\"CREATE SCHEMA IF NOT EXISTS bronze\n",
    "                  MANAGED LOCATION '{path}/Bronze_file'\"\"\")"
   ]
  },
  {
   "cell_type": "markdown",
   "metadata": {
    "application/vnd.databricks.v1+cell": {
     "cellMetadata": {
      "byteLimit": 2048000,
      "rowLimit": 10000
     },
     "inputWidgets": {},
     "nuid": "edae5e2e-e336-45c6-8eb8-680cf3a77602",
     "showTitle": false,
     "tableResultSettingsMap": {},
     "title": ""
    }
   },
   "source": [
    "### Function to create Silver schema"
   ]
  },
  {
   "cell_type": "code",
   "execution_count": 0,
   "metadata": {
    "application/vnd.databricks.v1+cell": {
     "cellMetadata": {
      "byteLimit": 2048000,
      "rowLimit": 10000
     },
     "inputWidgets": {},
     "nuid": "49a42d88-880e-447b-ae09-aaadc91bd2f5",
     "showTitle": false,
     "tableResultSettingsMap": {},
     "title": ""
    }
   },
   "outputs": [],
   "source": [
    "def create_silver_schema(enviroment, path):\n",
    "    print(f\"Creating silver schema in {enviroment}_catalog\")\n",
    "    spark.sql(f\"\"\"USE CATALOG {enviroment}_catalog\"\"\")\n",
    "    spark.sql(f\"\"\"CREATE SCHEMA IF NOT EXISTS silver\n",
    "                  MANAGED LOCATION '{path}/Silver_file'\"\"\")"
   ]
  },
  {
   "cell_type": "markdown",
   "metadata": {
    "application/vnd.databricks.v1+cell": {
     "cellMetadata": {
      "byteLimit": 2048000,
      "rowLimit": 10000
     },
     "inputWidgets": {},
     "nuid": "6e2fd06e-87fb-4954-9925-c03c9876d13a",
     "showTitle": false,
     "tableResultSettingsMap": {},
     "title": ""
    }
   },
   "source": [
    "### Function to create Gold schema"
   ]
  },
  {
   "cell_type": "code",
   "execution_count": 0,
   "metadata": {
    "application/vnd.databricks.v1+cell": {
     "cellMetadata": {
      "byteLimit": 2048000,
      "rowLimit": 10000
     },
     "inputWidgets": {},
     "nuid": "c9a62e10-643a-4d82-b080-f38f956ef8c5",
     "showTitle": false,
     "tableResultSettingsMap": {},
     "title": ""
    }
   },
   "outputs": [],
   "source": [
    "def create_gold_schema(environment, path):\n",
    "    print(f\"Creating gold schema in {environment}_catalog\")\n",
    "    spark.sql(f\"\"\"USE CATALOG {environment}_catalog\"\"\")\n",
    "    spark.sql(f\"\"\"CREATE SCHEMA IF NOT EXISTS gold\n",
    "                  MANAGED LOCATION '{path}/Gold_file'\"\"\")\n",
    "    print(\"**********************************************************\")\n"
   ]
  },
  {
   "cell_type": "markdown",
   "metadata": {
    "application/vnd.databricks.v1+cell": {
     "cellMetadata": {
      "byteLimit": 2048000,
      "rowLimit": 10000
     },
     "inputWidgets": {},
     "nuid": "9179e5a1-903c-453f-88f5-ffd83c1d4137",
     "showTitle": false,
     "tableResultSettingsMap": {},
     "title": ""
    }
   },
   "source": [
    "\n",
    "## Creating Bronze Tables"
   ]
  },
  {
   "cell_type": "markdown",
   "metadata": {
    "application/vnd.databricks.v1+cell": {
     "cellMetadata": {
      "byteLimit": 2048000,
      "rowLimit": 10000
     },
     "inputWidgets": {},
     "nuid": "8fa1f3af-1009-421c-b9df-f1b194c3c1e8",
     "showTitle": false,
     "tableResultSettingsMap": {},
     "title": ""
    }
   },
   "source": [
    "\n",
    "#### Creating raw_traffic table"
   ]
  },
  {
   "cell_type": "code",
   "execution_count": 0,
   "metadata": {
    "application/vnd.databricks.v1+cell": {
     "cellMetadata": {
      "byteLimit": 2048000,
      "rowLimit": 10000
     },
     "inputWidgets": {},
     "nuid": "9b2126e4-0d6e-4e2f-8284-9a613da670e9",
     "showTitle": false,
     "tableResultSettingsMap": {},
     "title": ""
    }
   },
   "outputs": [],
   "source": [
    "def createTable_rawTraffic(environment):\n",
    "    print(f'Creating raw_Traffic table in {environment}_catalog')\n",
    "    spark.sql(f\"\"\"CREATE TABLE IF NOT EXISTS `{environment}_catalog`.`bronze`.`raw_traffic`\n",
    "                        (\n",
    "                            Record_ID INT,\n",
    "                            Count_point_id INT,\n",
    "                            Direction_of_travel VARCHAR(255),\n",
    "                            Year INT,\n",
    "                            Count_date VARCHAR(255),\n",
    "                            hour INT,\n",
    "                            Region_id INT,\n",
    "                            Region_name VARCHAR(255),\n",
    "                            Local_authority_name VARCHAR(255),\n",
    "                            Road_name VARCHAR(255),\n",
    "                            Road_Category_ID INT,\n",
    "                            Start_junction_road_name VARCHAR(255),\n",
    "                            End_junction_road_name VARCHAR(255),\n",
    "                            Latitude DOUBLE,\n",
    "                            Longitude DOUBLE,\n",
    "                            Link_length_km DOUBLE,\n",
    "                            Pedal_cycles INT,\n",
    "                            Two_wheeled_motor_vehicles INT,\n",
    "                            Cars_and_taxis INT,\n",
    "                            Buses_and_coaches INT,\n",
    "                            LGV_Type INT,\n",
    "                            HGV_Type INT,\n",
    "                            EV_Car INT,\n",
    "                            EV_Bike INT,\n",
    "                            Extract_Time TIMESTAMP\n",
    "                    );\"\"\")\n",
    "    \n",
    "    print(\"**********************************************************\")"
   ]
  },
  {
   "cell_type": "markdown",
   "metadata": {
    "application/vnd.databricks.v1+cell": {
     "cellMetadata": {
      "byteLimit": 2048000,
      "rowLimit": 10000
     },
     "inputWidgets": {},
     "nuid": "a309ba41-280d-43af-a562-afda71bfa17f",
     "showTitle": false,
     "tableResultSettingsMap": {},
     "title": ""
    }
   },
   "source": [
    "\n",
    "#### Creating raw_roads table"
   ]
  },
  {
   "cell_type": "code",
   "execution_count": 0,
   "metadata": {
    "application/vnd.databricks.v1+cell": {
     "cellMetadata": {
      "byteLimit": 2048000,
      "rowLimit": 10000
     },
     "inputWidgets": {},
     "nuid": "db79bfdd-1783-4b6b-b992-a2c0c703b55a",
     "showTitle": false,
     "tableResultSettingsMap": {},
     "title": ""
    }
   },
   "outputs": [],
   "source": [
    "def createTable_rawRoad(environment):\n",
    "    print(f'Creating raw_roads table in {environment}_catalog')\n",
    "    spark.sql(f\"\"\"CREATE TABLE IF NOT EXISTS `{environment}_catalog`.`bronze`.`raw_roads`\n",
    "                        (\n",
    "                            Road_ID INT,\n",
    "                            Road_Category_Id INT,\n",
    "                            Road_Category VARCHAR(255),\n",
    "                            Region_ID INT,\n",
    "                            Region_Name VARCHAR(255),\n",
    "                            Total_Link_Length_Km DOUBLE,\n",
    "                            Total_Link_Length_Miles DOUBLE,\n",
    "                            All_Motor_Vehicles DOUBLE\n",
    "                    );\"\"\")\n",
    "    \n",
    "    print(\"**********************************************************\")"
   ]
  },
  {
   "cell_type": "markdown",
   "metadata": {
    "application/vnd.databricks.v1+cell": {
     "cellMetadata": {
      "byteLimit": 2048000,
      "rowLimit": 10000
     },
     "inputWidgets": {},
     "nuid": "ae63fcf0-23fb-44a6-a318-1dd1274801e5",
     "showTitle": false,
     "tableResultSettingsMap": {},
     "title": ""
    }
   },
   "source": [
    "### Creating schemas for dev environment & Call functions"
   ]
  },
  {
   "cell_type": "code",
   "execution_count": 0,
   "metadata": {
    "application/vnd.databricks.v1+cell": {
     "cellMetadata": {
      "byteLimit": 2048000,
      "rowLimit": 10000
     },
     "inputWidgets": {},
     "nuid": "48485fee-c18c-4a27-bb80-4a452c7bfb14",
     "showTitle": false,
     "tableResultSettingsMap": {},
     "title": ""
    }
   },
   "outputs": [],
   "source": [
    "print(\"**********************************************************\")\n",
    "create_bronze_schema(env, bronze_path)\n",
    "create_silver_schema(env, silver_path)\n",
    "create_gold_schema(env, gold_path)\n",
    "\n",
    "createTable_rawTraffic(env)\n",
    "createTable_rawRoad(env)"
   ]
  }
 ],
 "metadata": {
  "application/vnd.databricks.v1+notebook": {
   "computePreferences": null,
   "dashboards": [],
   "environmentMetadata": {
    "base_environment": "",
    "environment_version": "2"
   },
   "inputWidgetPreferences": null,
   "language": "python",
   "notebookMetadata": {
    "pythonIndentUnit": 4
   },
   "notebookName": "01. Project Setup",
   "widgets": {
    "Enter the Environment": {
     "currentValue": "dev",
     "nuid": "d2b421b5-ced6-480c-aced-3642655a0068",
     "typedWidgetInfo": {
      "autoCreated": false,
      "defaultValue": "",
      "label": null,
      "name": "Enter the Environment",
      "options": {
       "widgetDisplayType": "Text",
       "validationRegex": null
      },
      "parameterDataType": "String"
     },
     "widgetInfo": {
      "widgetType": "text",
      "defaultValue": "",
      "label": null,
      "name": "Enter the Environment",
      "options": {
       "widgetType": "text",
       "autoCreated": null,
       "validationRegex": null
      }
     }
    }
   }
  },
  "language_info": {
   "name": "python"
  }
 },
 "nbformat": 4,
 "nbformat_minor": 0
}
