{
 "cells": [
  {
   "cell_type": "code",
   "execution_count": 0,
   "metadata": {
    "application/vnd.databricks.v1+cell": {
     "cellMetadata": {
      "byteLimit": 2048000,
      "rowLimit": 10000
     },
     "inputWidgets": {},
     "nuid": "712a489d-03c5-4a68-9da2-21a3610972b2",
     "showTitle": false,
     "tableResultSettingsMap": {},
     "title": ""
    }
   },
   "outputs": [],
   "source": [
    "%run \"/Workspace/Project/04.Common Notebook\""
   ]
  },
  {
   "cell_type": "code",
   "execution_count": 0,
   "metadata": {
    "application/vnd.databricks.v1+cell": {
     "cellMetadata": {
      "byteLimit": 2048000,
      "rowLimit": 10000
     },
     "inputWidgets": {},
     "nuid": "8d96f2a9-e464-4115-82af-20ea16ce0d2e",
     "showTitle": false,
     "tableResultSettingsMap": {},
     "title": ""
    }
   },
   "outputs": [],
   "source": [
    "dbutils.widgets.text(\"Enter the environment\",\"\")\n",
    "env = dbutils.widgets.get(\"Enter the environment\")"
   ]
  },
  {
   "cell_type": "code",
   "execution_count": 0,
   "metadata": {
    "application/vnd.databricks.v1+cell": {
     "cellMetadata": {
      "byteLimit": 2048000,
      "rowLimit": 10000
     },
     "inputWidgets": {},
     "nuid": "75997aed-4c02-44c5-870c-37f01753153b",
     "showTitle": false,
     "tableResultSettingsMap": {},
     "title": ""
    }
   },
   "outputs": [],
   "source": [
    "from pyspark.sql.functions import *"
   ]
  },
  {
   "cell_type": "code",
   "execution_count": 0,
   "metadata": {
    "application/vnd.databricks.v1+cell": {
     "cellMetadata": {
      "byteLimit": 2048000,
      "rowLimit": 10000
     },
     "inputWidgets": {},
     "nuid": "619f6b21-6b9a-4f11-81dc-355b3343c47a",
     "showTitle": false,
     "tableResultSettingsMap": {},
     "title": ""
    }
   },
   "outputs": [],
   "source": [
    "def read_bronze_table(environment):\n",
    "    # Reading a DataFrame From Bronze Table\n",
    "    df_bronze = spark.readStream.table(f\"{environment}_catalog.bronze.raw_traffic\")\n",
    "    return df_bronze"
   ]
  },
  {
   "cell_type": "code",
   "execution_count": 0,
   "metadata": {
    "application/vnd.databricks.v1+cell": {
     "cellMetadata": {
      "byteLimit": 2048000,
      "rowLimit": 10000
     },
     "inputWidgets": {},
     "nuid": "796388a4-c49b-432f-9a09-d124b5af1120",
     "showTitle": false,
     "tableResultSettingsMap": {},
     "title": ""
    }
   },
   "outputs": [],
   "source": [
    "def renaming_columns(df, columns):\n",
    "    print('Renaming columns (converting to UPPERCASE only): ', end=' ')\n",
    "    for col_name in columns:\n",
    "        new_col_name = col_name.upper()\n",
    "        df = df.withColumnRenamed(col_name, new_col_name)\n",
    "    print('Success !!')\n",
    "    print(\"****************************************************************************************\")\n",
    "    return df\n",
    "\n"
   ]
  },
  {
   "cell_type": "code",
   "execution_count": 0,
   "metadata": {
    "application/vnd.databricks.v1+cell": {
     "cellMetadata": {
      "byteLimit": 2048000,
      "rowLimit": 10000
     },
     "inputWidgets": {},
     "nuid": "95f8c5a8-d8a7-44b8-8e73-4edcc1a60164",
     "showTitle": false,
     "tableResultSettingsMap": {},
     "title": ""
    }
   },
   "outputs": [],
   "source": [
    "def adding_columns(df):\n",
    "    print(\"Adding columns:\", end=' ')\n",
    "\n",
    "    #  Calculate the sum of EV Car and EV Bike to get total electric vehicles\n",
    "    col_sum = col('EV_CAR') + col('EV_BIKE')\n",
    "    add_col = df.withColumn('ELECTRIC_VEHICLAS_COUNT', col_sum)\n",
    "\n",
    "    #  Calculate the sum of all relevant vehicle types to get total motor vehicles\n",
    "    moter_col_sum = (\n",
    "    col('TWO_WHEELED_MOTOR_VEHICLES') +\n",
    "    col('CARS_AND_TAXIS') +\n",
    "    col('BUSES_AND_COACHES') +\n",
    "    col('LGV_TYPE') +\n",
    "    col('HGV_TYPE') +\n",
    "    col('ELECTRIC_VEHICLAS_COUNT'))\n",
    "\n",
    "    #  Add the 'Moter Vehiclas Count' column to the DataFrame\n",
    "    add_col = add_col.withColumn('MOTER_VEHICLAS_COUNT', moter_col_sum)\n",
    "\n",
    "    # ➤ Add the 'Transformed time' column to the DataFrame for Incremental loading\n",
    "    add_col = add_col.withColumn('TRANSFORMED_TIME', current_timestamp())\n",
    "\n",
    "\n",
    "    # ➤ Print status\n",
    "    print(\"success!!\")\n",
    "    print(\"****************************************************************************************\")\n",
    "    return add_col\n"
   ]
  },
  {
   "cell_type": "code",
   "execution_count": 0,
   "metadata": {
    "application/vnd.databricks.v1+cell": {
     "cellMetadata": {
      "byteLimit": 2048000,
      "rowLimit": 10000
     },
     "inputWidgets": {},
     "nuid": "6258e270-36c2-4586-bdd2-7df99724f11c",
     "showTitle": false,
     "tableResultSettingsMap": {},
     "title": ""
    }
   },
   "outputs": [],
   "source": [
    "def write_Traffic_SilverTable(df, environment):\n",
    "    print('Starting to write the Silver Traffic Table:', end=' ')\n",
    "\n",
    "    #  Write the streaming DataFrame to the silver Delta table\n",
    "    df.writeStream \\\n",
    "        .format(\"delta\") \\\n",
    "        .option(\"checkpointLocation\", checkpoint_path + \"/SilverTrafficLoad/Checkpt\") \\\n",
    "        .outputMode(\"append\") \\\n",
    "        .queryName(\"SilverTrafficWriteStream\") \\\n",
    "        .trigger(availableNow=True) \\\n",
    "        .toTable(f\"{environment}_catalog.silver.silver_traffic\")\n",
    "\n",
    "    print('Success !!')\n",
    "    print(\"****************************************************************************************\")"
   ]
  },
  {
   "cell_type": "code",
   "execution_count": 0,
   "metadata": {
    "application/vnd.databricks.v1+cell": {
     "cellMetadata": {
      "byteLimit": 2048000,
      "rowLimit": 10000
     },
     "inputWidgets": {},
     "nuid": "28367d06-5b0c-4929-9477-ecaed537b973",
     "showTitle": false,
     "tableResultSettingsMap": {},
     "title": ""
    }
   },
   "outputs": [],
   "source": [
    "#  Step 0: Read the bronze table based on the environment\n",
    "df_traffic = read_bronze_table(env)\n",
    "\n",
    "#  Step 1: Remove duplicate records from the original DataFrame\n",
    "remove_df = remove_duplicates(df_traffic)\n",
    "all_columns = remove_df.columns\n",
    "\n",
    "#  Step 3: Handle NULL values for both string and numeric columns\n",
    "null_df = handling_nulls(remove_df, all_columns)\n",
    "\n",
    "#  Step 4: Rename columns by replacing underscores \"_\" with spaces \" \"\n",
    "renamed_df = renaming_columns(null_df, all_columns)\n",
    "\n",
    "#  Step 5: Add new calculated columns (e.g., Electric and Motor Vehicle counts)\n",
    "add_df = adding_columns(renamed_df)\n",
    "\n",
    "#  Step 6: Write the transformed DataFrame to the Silver table\n",
    "result_df = write_Traffic_SilverTable(add_df, env)\n",
    "\n",
    "#  Step 7: Display the final DataFrame\n",
    "display(result_df)\n"
   ]
  },
  {
   "cell_type": "code",
   "execution_count": 0,
   "metadata": {
    "application/vnd.databricks.v1+cell": {
     "cellMetadata": {
      "byteLimit": 2048000,
      "rowLimit": 10000
     },
     "inputWidgets": {},
     "nuid": "37819ccf-c3bc-4d81-a3f9-0ac5e40278a2",
     "showTitle": false,
     "tableResultSettingsMap": {},
     "title": ""
    }
   },
   "outputs": [],
   "source": [
    "display(spark.sql(\"SELECT MOTER_VEHICLAS_COUNT,LINK_LENGTH_KM FROM dev_catalog.silver.silver_traffic\"))"
   ]
  }
 ],
 "metadata": {
  "application/vnd.databricks.v1+notebook": {
   "computePreferences": null,
   "dashboards": [],
   "environmentMetadata": {
    "base_environment": "",
    "environment_version": "2"
   },
   "inputWidgetPreferences": null,
   "language": "python",
   "notebookMetadata": {
    "pythonIndentUnit": 4
   },
   "notebookName": "03. Silver raw_Traffic Trasformation",
   "widgets": {
    "Enter the environment": {
     "currentValue": "dev",
     "nuid": "eaed27e4-c65d-48f8-8fb8-9f3d6849e568",
     "typedWidgetInfo": {
      "autoCreated": false,
      "defaultValue": "",
      "label": null,
      "name": "Enter the environment",
      "options": {
       "widgetDisplayType": "Text",
       "validationRegex": null
      },
      "parameterDataType": "String"
     },
     "widgetInfo": {
      "widgetType": "text",
      "defaultValue": "",
      "label": null,
      "name": "Enter the environment",
      "options": {
       "widgetType": "text",
       "autoCreated": null,
       "validationRegex": null
      }
     }
    }
   }
  },
  "language_info": {
   "name": "python"
  }
 },
 "nbformat": 4,
 "nbformat_minor": 0
}
